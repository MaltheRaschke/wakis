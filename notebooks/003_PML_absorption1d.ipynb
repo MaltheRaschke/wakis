{
 "cells": [
  {
   "cell_type": "markdown",
   "metadata": {},
   "source": [
    "## Gaussian pulse moving through dielectric $\\varepsilon$ and absorbing $\\sigma$ layers\n",
    "\n",
    "Study the optimal values of PML's for different frequencies and PML widths to minimize reflection:\n",
    "\n",
    "⚠️ work in progress!\n",
    "\n",
    "![](https://codimd.web.cern.ch/uploads/upload_377b25730e2b4ec04c803bbab82562da.gif)"
   ]
  },
  {
   "cell_type": "markdown",
   "metadata": {},
   "source": [
    "### Simulation with wakis\n",
    "----"
   ]
  },
  {
   "cell_type": "code",
   "execution_count": 1,
   "metadata": {},
   "outputs": [],
   "source": [
    "from scipy.constants import c as c_light\n",
    "import numpy as np\n",
    "from tqdm import tqdm\n",
    "\n",
    "# import wakis package (local)\n",
    "import sys\n",
    "sys.path.append('../wakis')\n",
    "from wakis.solverFIT3D import SolverFIT3D\n",
    "from wakis.gridFIT3D import GridFIT3D\n",
    "from wakis.sources import WavePacket\n",
    "\n",
    "# import wakis package from pip\n",
    "#from wakis import SolverFIT3D, GridFIT3D\n",
    "#from wakis.sources import WavePacket\n",
    "\n",
    "# Plotting settings\n",
    "import pyvista as pv\n",
    "import matplotlib.animation\n",
    "import matplotlib.pyplot as plt\n",
    "plt.rcParams[\"animation.html\"] = \"jshtml\"\n",
    "plt.rcParams['figure.dpi'] = 150  \n",
    "plt.ioff()\n",
    "\n",
    "%matplotlib ipympl"
   ]
  },
  {
   "cell_type": "markdown",
   "metadata": {},
   "source": [
    "### Domain definition and absorbing barriers"
   ]
  },
  {
   "cell_type": "code",
   "execution_count": 2,
   "metadata": {},
   "outputs": [],
   "source": [
    "# barrier dimensions\n",
    "lx, ly, lz = 5., 5., 10.\n",
    "\n",
    "# Domain bounds\n",
    "xmin, xmax, ymin, ymax, zmin, zmax = -lx/2., lx/2., -ly/2., ly/2., -lz/2.,lz/2.\n",
    "\n",
    "# Number of mesh cells\n",
    "Nx = 4\n",
    "Ny = 4\n",
    "Nz = 800\n",
    "\n",
    "# cell size\n",
    "dx, dy, dz = lx/Nx, ly/Ny, lz/Nz\n",
    "\n",
    "# Barriers\n",
    "barrier = {}\n",
    "stl_solids = {}\n",
    "stl_materials = {}\n",
    "\n",
    "n = 16\n",
    "ss = np.linspace( np.sqrt(1.e-4), np.sqrt(1.e-1), n, )\n",
    "ss = ss*ss\n",
    "\n",
    "width = 2.*dz\n",
    "pos_z_begin = zmax - n*width\n",
    "\n",
    "for k, si in enumerate(ss):\n",
    "    \n",
    "    name = f'b{k}'\n",
    "    file_name = f'barrier{k}.stl'\n",
    "    \n",
    "    barrier[k] = pv.Cube( x_length=lx, y_length=ly, z_length=width, center=(0,0,pos_z_begin+k*width))\n",
    "    barrier[k].save( file_name, )\n",
    "\n",
    "    stl_solids[name] = file_name\n",
    "    stl_materials[name] = [ 1., 1., si, ]"
   ]
  },
  {
   "cell_type": "code",
   "execution_count": null,
   "metadata": {},
   "outputs": [],
   "source": [
    "# Simulation grid\n",
    "grid = GridFIT3D(xmin, xmax, ymin, ymax, zmin, zmax, \n",
    "                 Nx, Ny, Nz, \n",
    "                 stl_solids=stl_solids, \n",
    "                 stl_materials=stl_materials)\n",
    "grid.inspect()"
   ]
  },
  {
   "cell_type": "markdown",
   "metadata": {},
   "source": [
    "### Solver setup"
   ]
  },
  {
   "cell_type": "code",
   "execution_count": null,
   "metadata": {},
   "outputs": [],
   "source": [
    "# boundary conditions\n",
    "bc_low=['periodic', 'periodic', 'pec']  \n",
    "bc_high=['periodic', 'periodic', 'pec']\n",
    "\n",
    "solver = SolverFIT3D(grid=grid,     # pass grid object\n",
    "                     cfln=0.50,       # Default if no dt is defined\n",
    "                     bc_low=bc_low, \n",
    "                     bc_high=bc_high, \n",
    "                     use_stl=True,     # Enables or disables geometry import\n",
    "                     bg='vacuum',      # Background material \n",
    "                     use_gpu=False,\n",
    "                     )\n"
   ]
  },
  {
   "cell_type": "markdown",
   "metadata": {},
   "source": [
    "### Source setup"
   ]
  },
  {
   "cell_type": "code",
   "execution_count": null,
   "metadata": {},
   "outputs": [],
   "source": [
    "# Add Gaussian wavepacket\n",
    "source = WavePacket(xs=slice(0,Nx), ys=slice(0,Ny),\n",
    "                    sigmaxy=100.,\n",
    "                    sigmaz=.4,\n",
    "                    wavelength=16.*dz,\n",
    "                    tinj=2.0)\n",
    "\n",
    "t = np.arange(0,(zmax-zmin)/c_light, solver.dt)\n",
    "source.plot( t, )\n",
    "\n",
    "# plot 2d\n",
    "X, Y = np.meshgrid(solver.x, solver.y)\n",
    "gaussxy = np.exp(-(X**2+Y**2)/(2*source.sigmaxy**2))\n",
    "#plt.figure()\n",
    "#plt.contourf(X,Y,gaussxy)"
   ]
  },
  {
   "cell_type": "markdown",
   "metadata": {},
   "source": [
    "### Time-stepping"
   ]
  },
  {
   "cell_type": "code",
   "execution_count": null,
   "metadata": {},
   "outputs": [],
   "source": [
    "#initialize to 0\n",
    "for d in ['x','y','z']:\n",
    "    solver.E[:,:,:,d] = 0.\n",
    "    solver.H[:,:,:,d] = 0.\n",
    "    solver.J[:,:,:,d] = 0.\n",
    "\n",
    "# Fields to save\n",
    "Ex, Ey, Hx, Hy, Jz = [], [], [], [], []\n",
    "\n",
    "plot2D=False\n",
    "plot3D=False\n",
    "\n",
    "N1 = 5*int((2+zmax-zmin)/c_light/solver.dt)\n",
    "for n in tqdm(range(N1)):\n",
    "\n",
    "    #apply source\n",
    "    source.update(solver, solver.dt*n)\n",
    "\n",
    "    #Advance fields\n",
    "    solver.one_step()\n",
    "\n",
    "    if n%100 == 0:\n",
    "        Ex.append(solver.E[Nx//2, Ny//2, :, 'x'])\n",
    "        Ey.append(solver.E[Nx//2, Ny//2, :, 'y'])\n",
    "        Hx.append(solver.H[Nx//2, Ny//2, :, 'x'])\n",
    "        Hy.append(solver.H[Nx//2, Ny//2, :, 'y'])\n",
    "        Jz.append(solver.J[Nx//2, Ny//2, :, 'z'])\n",
    "\n",
    "    if plot2D and n%50 == 0:\n",
    "        solver.plot2D(field='H', component='y', plane='ZY', pos=0.5, norm='symlog', \n",
    "               vmin=-1, vmax=1, figsize=[8,4], cmap='RdBu', patch_alpha=0.1, \n",
    "               add_patch=None, title='Hy', off_screen=True, n=n, interpolation='spline36')\n",
    "    if plot3D and n==100:\n",
    "        solver.plot3D( 'Hy',n=n,  add_stl='barriers', clip_interactive=True, )\n",
    "    "
   ]
  },
  {
   "cell_type": "markdown",
   "metadata": {},
   "source": [
    "### Plotting and animations "
   ]
  },
  {
   "cell_type": "code",
   "execution_count": 9,
   "metadata": {},
   "outputs": [],
   "source": [
    "# quick plotting\n",
    "solver.plot3D( 'Hy', add_stl='barrier1', clip_interactive=True, stl_opacity=0.4, cmap='gnuplot' )"
   ]
  },
  {
   "cell_type": "code",
   "execution_count": 7,
   "metadata": {},
   "outputs": [],
   "source": [
    "from argparse import Namespace as NS\n",
    "fields = { \n",
    "  'Ex': NS( values=np.array(Ex), units='', ), \n",
    "  'Ey': NS( values=np.array(Ey), units='', ), \n",
    "  'Hx': NS( values=np.array(Hx), units='', ),\n",
    "  'Hy': NS( values=np.array(Hy), units='', ),\n",
    "  'Jz': NS( values=np.array(Jz), units='', ),\n",
    "}\n",
    "\n",
    "# frames animation\n",
    "fig, axs = plt.subplots( len(fields), 1, figsize=[12,8], dpi=150, )\n",
    "\n",
    "axs[-1].set_xlabel(f'z [m]')\n",
    "for ax, ( ki, vi, ) in zip(axs,fields.items()):\n",
    "\n",
    "  ax.set_ylabel(f'Field {ki} {vi.units}')\n",
    "\n",
    "  q = np.abs(vi.values).max()\n",
    "  ax.set_ylim((-q,q))\n",
    "  ax.set_xlim((zmin,zmax))\n",
    "  \n",
    "  # barriers\n",
    "  for b, si in zip(barrier.values(),ss):\n",
    "    xlo, xhi, ylo, yhi, zlo, zhi = b.bounds\n",
    "    ax.axvspan(zlo, zhi, color='g', alpha=.1 + .6*si/ss.max())\n",
    "\n",
    "  ls = [ ax.plot(solver.z, np.full_like( solver.z, np.nan, ), c='r')[0] for ax in axs ]\n",
    "\n",
    "def animate(frame,ls,fields,axs):\n",
    "  fig.gca()\n",
    "  axs[0].set_title(f'frame {frame:6d}')\n",
    "  # field\n",
    "  for li, ( ki, vi, ) in zip(ls,fields.items()):\n",
    "    li.set( data=(solver.z,vi.values[frame]), )\n",
    "  return ls\n",
    "\n",
    "anim = matplotlib.animation.FuncAnimation(fig, lambda frame: animate(frame,ls,fields,axs), frames=len(vi.values), )\n",
    "anim.save(f'movie_all.mp4')\n",
    "plt.close(fig)"
   ]
  },
  {
   "cell_type": "markdown",
   "metadata": {},
   "source": [
    "### Metrics to analyise absortion"
   ]
  },
  {
   "cell_type": "code",
   "execution_count": null,
   "metadata": {},
   "outputs": [],
   "source": [
    "def metric_area( f, ):\n",
    "    return np.sum(np.abs(f))\n",
    "\n",
    "def metric_length( f, ):\n",
    "    df = np.diff(f)\n",
    "    return np.sum(np.sqrt(1. + df*df))/len(df) - 1\n",
    "\n",
    "for vi in fields.values():\n",
    "    vi.area = np.array([ metric_area(fs) for fs in vi.values ])\n",
    "    vi.area /= vi.area.max()\n",
    "    vi.length = np.array([ metric_length(fs) for fs in vi.values ])\n",
    "    vi.length /= vi.length.max()"
   ]
  },
  {
   "cell_type": "code",
   "execution_count": null,
   "metadata": {},
   "outputs": [],
   "source": [
    "fig, ( ax1, ax2, ) = plt.subplots( 1, 2, tight_layout=True, )\n",
    "\n",
    "for ki, vi in fields.items():\n",
    "    ax1.plot( vi.area, label=ki, )\n",
    "    ax2.plot( vi.length, label=ki, )\n",
    "\n",
    "ax1.legend(), ax2.legend()"
   ]
  },
  {
   "cell_type": "code",
   "execution_count": null,
   "metadata": {},
   "outputs": [],
   "source": [
    "plt.figure()\n",
    "plt.imshow(solver.E[Nx//2, :, :, 'y'], aspect='auto')\n",
    "plt.colorbar()\n",
    "plt.show()"
   ]
  },
  {
   "cell_type": "code",
   "execution_count": null,
   "metadata": {},
   "outputs": [],
   "source": [
    "plt.figure()\n",
    "plt.imshow(solver.H[Nx//2, :, :, 'x'], aspect='auto')\n",
    "plt.colorbar()\n",
    "plt.show()"
   ]
  }
 ],
 "metadata": {
  "kernelspec": {
   "display_name": "Python 3",
   "language": "python",
   "name": "python3"
  },
  "language_info": {
   "codemirror_mode": {
    "name": "ipython",
    "version": 3
   },
   "file_extension": ".py",
   "mimetype": "text/x-python",
   "name": "python",
   "nbconvert_exporter": "python",
   "pygments_lexer": "ipython3",
   "version": "3.9.19"
  }
 },
 "nbformat": 4,
 "nbformat_minor": 4
}
